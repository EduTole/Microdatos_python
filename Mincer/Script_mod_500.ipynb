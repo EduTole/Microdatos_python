{
 "cells": [
  {
   "cell_type": "code",
   "execution_count": null,
   "id": "768a6b90-5dbf-4d5b-ba29-73216f0de89b",
   "metadata": {},
   "outputs": [],
   "source": []
  },
  {
   "cell_type": "markdown",
   "id": "36285e59-c388-47e3-ae7e-5cefdfaf0c8e",
   "metadata": {},
   "source": [
    "<center style=\"font-size: 2em; font-weight: bold;\"> Microeconometria Aplicada II </center>\n",
    "<center style=\"font-size: 2em; font-weight: bold;\"> Manejo de base de datos  </center>\n",
    "<left style=\"font-size: 4em; font-weight: bold;\"> Autor: Edinson Tolentino </left>"
   ]
  },
  {
   "cell_type": "markdown",
   "id": "9bc652ea-c95b-442b-86e5-86f2444ee20a",
   "metadata": {},
   "source": [
    "# Inicio"
   ]
  },
  {
   "cell_type": "code",
   "execution_count": 1,
   "id": "fb52bcbe-22e3-4a9a-816d-72ef2095738a",
   "metadata": {},
   "outputs": [],
   "source": [
    "import pandas\n",
    "import numpy\n",
    "import os\n",
    "import sys\n"
   ]
  },
  {
   "cell_type": "code",
   "execution_count": 2,
   "id": "cf81d41b-3f86-495c-8e67-f40bc8837a89",
   "metadata": {},
   "outputs": [],
   "source": [
    "import codigos_enaho"
   ]
  },
  {
   "cell_type": "markdown",
   "id": "82f09b40-8264-4f1f-af7a-bc0ab35e869d",
   "metadata": {},
   "source": [
    "## Cargar Data"
   ]
  },
  {
   "cell_type": "code",
   "execution_count": 3,
   "id": "86036515-f4d3-4518-8a7b-c2750e165ad6",
   "metadata": {},
   "outputs": [],
   "source": [
    "data_enaho    = \"C:/Users/et396/Dropbox/BASES/ENAHO\"\n",
    "year          = \"2021\"\n",
    "modulo_empleo = \"enaho01a-2021-500.dta\"\n",
    "modulo_educacion = \"enaho01a-2021-300.dta\"\n",
    "\n",
    "data_500      = os.path.join(data_enaho, year, modulo_empleo)\n",
    "data_300      = os.path.join(data_enaho, year, modulo_educacion)\n",
    "\n",
    "# Carga de data\n",
    "data_empleo      = pandas.read_stata(data_500)\n",
    "data_educacion   = pandas.read_stata(data_300, convert_categoricals=False )\n"
   ]
  },
  {
   "cell_type": "markdown",
   "id": "44d66cf0-d37b-4507-aeb9-1a7cd1b4e4a5",
   "metadata": {},
   "source": [
    "## Aplicar codigos"
   ]
  },
  {
   "cell_type": "code",
   "execution_count": 4,
   "id": "cba3da96-f31d-486c-8117-219e17fd216a",
   "metadata": {
    "tags": []
   },
   "outputs": [],
   "source": [
    "# caso de empleo(solo jefe de hogar)\n",
    "frame_empleo      = codigos_enaho.function_r500(data_empleo)\n",
    "frame_empleo      = frame_empleo[(frame_empleo.p203=='jefe/jefa')]\n",
    "\n",
    "frame_educacion   = codigos_enaho.function_r300(data_educacion)\n"
   ]
  },
  {
   "cell_type": "code",
   "execution_count": 5,
   "id": "c07c7df0-f991-4a6c-9bc9-f29ad5ad2c23",
   "metadata": {},
   "outputs": [],
   "source": [
    "# caso de empleo\n",
    "\n",
    "#data_empleo = codigos_enaho.funcion_r3(data_empleo      , 'r3'    , 'ocu500')\n",
    "#data_empleo = codigos_enaho.funcion_redad(data_empleo   , 'redad' , 'p208a' )\n",
    "#data_empleo = codigos_enaho.funcion_r6(data_empleo      , 'r6'    , 'ocu500')\n",
    "#data_empleo = codigos_enaho.funcion_genero(data_empleo  , 'rmujer', 'p207'  )\n",
    "#data_empleo = codigos_enaho.funcion_r2(data_empleo, 'r2', 'p301a'           )\n"
   ]
  },
  {
   "cell_type": "markdown",
   "id": "871bff86-15e0-4cf0-b21d-a68a4cf27d4a",
   "metadata": {},
   "source": [
    "## Variables principales"
   ]
  },
  {
   "cell_type": "code",
   "execution_count": 6,
   "id": "494c089e-14f9-40bf-a443-fd9a1e8ea4d9",
   "metadata": {},
   "outputs": [],
   "source": [
    "var_empleo = [ \n",
    "    'rcod_persona',\n",
    "    'rcod_hogar',\n",
    "    'rmujer', \n",
    "    'r6', \n",
    "    'rmu',\n",
    "    'rneduca',\n",
    "    'r3', \n",
    "    'redad', \n",
    "]\n",
    "\n",
    "var_educacion = [ \n",
    "    'rcod_persona',\n",
    "    'rcod_hogar',\n",
    "    'reduca', \n",
    "]\n",
    "\n"
   ]
  },
  {
   "cell_type": "code",
   "execution_count": 7,
   "id": "55015cfa-1255-465a-ac6b-4f45034d2fb4",
   "metadata": {},
   "outputs": [],
   "source": [
    "# Filtro de variables\n",
    "base_empleo    = frame_empleo[var_empleo]\n",
    "base_educacion = frame_educacion[var_educacion]\n",
    "#base_pobreza = data_pobreza[var_pobreza]"
   ]
  },
  {
   "cell_type": "code",
   "execution_count": 8,
   "id": "c6b4f209-4b10-4fee-a5ae-ebcd246e0811",
   "metadata": {},
   "outputs": [
    {
     "name": "stdout",
     "output_type": "stream",
     "text": [
      "\n",
      "--------------------- informacion de cantidad de datos y variables -----------------\n",
      "(34245, 9)\n"
     ]
    }
   ],
   "source": [
    "base_final =pandas.merge(base_empleo, base_educacion, how='inner')\n",
    "print()\n",
    "print('--------------------- informacion de cantidad de datos y variables -----------------')\n",
    "print(base_final.shape)"
   ]
  },
  {
   "cell_type": "code",
   "execution_count": 9,
   "id": "590a1472-babf-4864-a8b3-7b6afaa89c71",
   "metadata": {},
   "outputs": [],
   "source": [
    "base_final = codigos_enaho.funcion_rfiltros(base_final)"
   ]
  },
  {
   "cell_type": "code",
   "execution_count": 10,
   "id": "2ff84dc4-9b78-4167-bf10-e83cc7622d35",
   "metadata": {},
   "outputs": [
    {
     "data": {
      "text/html": [
       "<div>\n",
       "<style scoped>\n",
       "    .dataframe tbody tr th:only-of-type {\n",
       "        vertical-align: middle;\n",
       "    }\n",
       "\n",
       "    .dataframe tbody tr th {\n",
       "        vertical-align: top;\n",
       "    }\n",
       "\n",
       "    .dataframe thead th {\n",
       "        text-align: right;\n",
       "    }\n",
       "</style>\n",
       "<table border=\"1\" class=\"dataframe\">\n",
       "  <thead>\n",
       "    <tr style=\"text-align: right;\">\n",
       "      <th></th>\n",
       "      <th>25878</th>\n",
       "      <th>8069</th>\n",
       "      <th>22392</th>\n",
       "      <th>6056</th>\n",
       "    </tr>\n",
       "  </thead>\n",
       "  <tbody>\n",
       "    <tr>\n",
       "      <th>rcod_persona</th>\n",
       "      <td>0185880621101</td>\n",
       "      <td>0104870031101</td>\n",
       "      <td>0178030801101</td>\n",
       "      <td>0092171111101</td>\n",
       "    </tr>\n",
       "    <tr>\n",
       "      <th>rcod_hogar</th>\n",
       "      <td>01858806211</td>\n",
       "      <td>01048700311</td>\n",
       "      <td>01780308011</td>\n",
       "      <td>00921711111</td>\n",
       "    </tr>\n",
       "    <tr>\n",
       "      <th>rmujer</th>\n",
       "      <td>0</td>\n",
       "      <td>0</td>\n",
       "      <td>1</td>\n",
       "      <td>0</td>\n",
       "    </tr>\n",
       "    <tr>\n",
       "      <th>r6</th>\n",
       "      <td>1553.416667</td>\n",
       "      <td>2029.416667</td>\n",
       "      <td>1096.342122</td>\n",
       "      <td>3266.166667</td>\n",
       "    </tr>\n",
       "    <tr>\n",
       "      <th>rmu</th>\n",
       "      <td>0</td>\n",
       "      <td>0</td>\n",
       "      <td>0</td>\n",
       "      <td>0</td>\n",
       "    </tr>\n",
       "    <tr>\n",
       "      <th>rneduca</th>\n",
       "      <td>secundaria</td>\n",
       "      <td>secundaria</td>\n",
       "      <td>superior</td>\n",
       "      <td>secundaria</td>\n",
       "    </tr>\n",
       "    <tr>\n",
       "      <th>r3</th>\n",
       "      <td>1</td>\n",
       "      <td>1</td>\n",
       "      <td>1</td>\n",
       "      <td>1</td>\n",
       "    </tr>\n",
       "    <tr>\n",
       "      <th>redad</th>\n",
       "      <td>49</td>\n",
       "      <td>41</td>\n",
       "      <td>44</td>\n",
       "      <td>59</td>\n",
       "    </tr>\n",
       "    <tr>\n",
       "      <th>reduca</th>\n",
       "      <td>10.0</td>\n",
       "      <td>11.0</td>\n",
       "      <td>12.0</td>\n",
       "      <td>8.0</td>\n",
       "    </tr>\n",
       "  </tbody>\n",
       "</table>\n",
       "</div>"
      ],
      "text/plain": [
       "                      25878          8069           22392          6056 \n",
       "rcod_persona  0185880621101  0104870031101  0178030801101  0092171111101\n",
       "rcod_hogar      01858806211    01048700311    01780308011    00921711111\n",
       "rmujer                    0              0              1              0\n",
       "r6              1553.416667    2029.416667    1096.342122    3266.166667\n",
       "rmu                       0              0              0              0\n",
       "rneduca          secundaria     secundaria       superior     secundaria\n",
       "r3                        1              1              1              1\n",
       "redad                    49             41             44             59\n",
       "reduca                 10.0           11.0           12.0            8.0"
      ]
     },
     "execution_count": 10,
     "metadata": {},
     "output_type": "execute_result"
    }
   ],
   "source": [
    "base_final.sample(4).T"
   ]
  },
  {
   "cell_type": "code",
   "execution_count": 11,
   "id": "bd14f697-cc46-444d-8228-ccfc2714428d",
   "metadata": {
    "tags": []
   },
   "outputs": [
    {
     "data": {
      "text/html": [
       "<div>\n",
       "<style scoped>\n",
       "    .dataframe tbody tr th:only-of-type {\n",
       "        vertical-align: middle;\n",
       "    }\n",
       "\n",
       "    .dataframe tbody tr th {\n",
       "        vertical-align: top;\n",
       "    }\n",
       "\n",
       "    .dataframe thead th {\n",
       "        text-align: right;\n",
       "    }\n",
       "</style>\n",
       "<table border=\"1\" class=\"dataframe\">\n",
       "  <thead>\n",
       "    <tr style=\"text-align: right;\">\n",
       "      <th></th>\n",
       "      <th>count</th>\n",
       "      <th>mean</th>\n",
       "      <th>std</th>\n",
       "      <th>min</th>\n",
       "      <th>25%</th>\n",
       "      <th>50%</th>\n",
       "      <th>75%</th>\n",
       "      <th>max</th>\n",
       "    </tr>\n",
       "  </thead>\n",
       "  <tbody>\n",
       "    <tr>\n",
       "      <th>rmujer</th>\n",
       "      <td>27944.0</td>\n",
       "      <td>0.319317</td>\n",
       "      <td>0.466220</td>\n",
       "      <td>0.0</td>\n",
       "      <td>0.000000</td>\n",
       "      <td>0.0</td>\n",
       "      <td>1.000000</td>\n",
       "      <td>1.00</td>\n",
       "    </tr>\n",
       "    <tr>\n",
       "      <th>r6</th>\n",
       "      <td>27944.0</td>\n",
       "      <td>1280.116606</td>\n",
       "      <td>1705.822724</td>\n",
       "      <td>0.0</td>\n",
       "      <td>316.038269</td>\n",
       "      <td>861.5</td>\n",
       "      <td>1602.979167</td>\n",
       "      <td>52063.25</td>\n",
       "    </tr>\n",
       "    <tr>\n",
       "      <th>rmu</th>\n",
       "      <td>27944.0</td>\n",
       "      <td>0.015746</td>\n",
       "      <td>0.124493</td>\n",
       "      <td>0.0</td>\n",
       "      <td>0.000000</td>\n",
       "      <td>0.0</td>\n",
       "      <td>0.000000</td>\n",
       "      <td>1.00</td>\n",
       "    </tr>\n",
       "    <tr>\n",
       "      <th>r3</th>\n",
       "      <td>27944.0</td>\n",
       "      <td>1.211137</td>\n",
       "      <td>0.601632</td>\n",
       "      <td>1.0</td>\n",
       "      <td>1.000000</td>\n",
       "      <td>1.0</td>\n",
       "      <td>1.000000</td>\n",
       "      <td>3.00</td>\n",
       "    </tr>\n",
       "    <tr>\n",
       "      <th>redad</th>\n",
       "      <td>27944.0</td>\n",
       "      <td>47.390066</td>\n",
       "      <td>12.165911</td>\n",
       "      <td>18.0</td>\n",
       "      <td>38.000000</td>\n",
       "      <td>48.0</td>\n",
       "      <td>57.000000</td>\n",
       "      <td>69.00</td>\n",
       "    </tr>\n",
       "    <tr>\n",
       "      <th>reduca</th>\n",
       "      <td>27944.0</td>\n",
       "      <td>8.795555</td>\n",
       "      <td>5.437069</td>\n",
       "      <td>0.0</td>\n",
       "      <td>5.000000</td>\n",
       "      <td>11.0</td>\n",
       "      <td>12.000000</td>\n",
       "      <td>18.00</td>\n",
       "    </tr>\n",
       "  </tbody>\n",
       "</table>\n",
       "</div>"
      ],
      "text/plain": [
       "          count         mean          std   min         25%    50%  \\\n",
       "rmujer  27944.0     0.319317     0.466220   0.0    0.000000    0.0   \n",
       "r6      27944.0  1280.116606  1705.822724   0.0  316.038269  861.5   \n",
       "rmu     27944.0     0.015746     0.124493   0.0    0.000000    0.0   \n",
       "r3      27944.0     1.211137     0.601632   1.0    1.000000    1.0   \n",
       "redad   27944.0    47.390066    12.165911  18.0   38.000000   48.0   \n",
       "reduca  27944.0     8.795555     5.437069   0.0    5.000000   11.0   \n",
       "\n",
       "                75%       max  \n",
       "rmujer     1.000000      1.00  \n",
       "r6      1602.979167  52063.25  \n",
       "rmu        0.000000      1.00  \n",
       "r3         1.000000      3.00  \n",
       "redad     57.000000     69.00  \n",
       "reduca    12.000000     18.00  "
      ]
     },
     "execution_count": 11,
     "metadata": {},
     "output_type": "execute_result"
    }
   ],
   "source": [
    "base_final.describe().T"
   ]
  },
  {
   "cell_type": "code",
   "execution_count": null,
   "id": "64c7a74c-d3b9-42a2-900e-9a77f34ffd5a",
   "metadata": {},
   "outputs": [],
   "source": []
  }
 ],
 "metadata": {
  "kernelspec": {
   "display_name": "Python 3 (ipykernel)",
   "language": "python",
   "name": "python3"
  },
  "language_info": {
   "codemirror_mode": {
    "name": "ipython",
    "version": 3
   },
   "file_extension": ".py",
   "mimetype": "text/x-python",
   "name": "python",
   "nbconvert_exporter": "python",
   "pygments_lexer": "ipython3",
   "version": "3.11.5"
  }
 },
 "nbformat": 4,
 "nbformat_minor": 5
}
